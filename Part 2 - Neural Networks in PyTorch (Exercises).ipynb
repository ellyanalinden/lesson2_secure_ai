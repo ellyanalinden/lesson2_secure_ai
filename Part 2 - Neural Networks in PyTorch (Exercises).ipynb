{
 "cells": [
  {
   "cell_type": "markdown",
   "metadata": {},
   "source": [
    "# Neural networks with PyTorch\n",
    "\n",
    "Deep learning networks tend to be massive with dozens or hundreds of layers, that's where the term \"deep\" comes from. You can build one of these deep networks using only weight matrices as we did in the previous notebook, but in general it's very cumbersome and difficult to implement. PyTorch has a nice module `nn` that provides a nice way to efficiently build large neural networks."
   ]
  },
  {
   "cell_type": "code",
   "execution_count": 1,
   "metadata": {},
   "outputs": [],
   "source": [
    "# Import necessary packages\n",
    "\n",
    "%matplotlib inline\n",
    "%config InlineBackend.figure_format = 'retina'\n",
    "\n",
    "import numpy as np\n",
    "import torch\n",
    "\n",
    "import helper\n",
    "\n",
    "import matplotlib.pyplot as plt"
   ]
  },
  {
   "cell_type": "markdown",
   "metadata": {},
   "source": [
    "\n",
    "Now we're going to build a larger network that can solve a (formerly) difficult problem, identifying text in an image. Here we'll use the MNIST dataset which consists of greyscale handwritten digits. Each image is 28x28 pixels, you can see a sample below\n",
    "\n",
    "<img src='assets/mnist.png'>\n",
    "\n",
    "Our goal is to build a neural network that can take one of these images and predict the digit in the image.\n",
    "\n",
    "First up, we need to get our dataset. This is provided through the `torchvision` package. The code below will download the MNIST dataset, then create training and test datasets for us. Don't worry too much about the details here, you'll learn more about this later."
   ]
  },
  {
   "cell_type": "code",
   "execution_count": 2,
   "metadata": {},
   "outputs": [],
   "source": [
    "### Run this cell\n",
    "\n",
    "from torchvision import datasets, transforms\n",
    "\n",
    "# Define a transform to normalize the data\n",
    "transform = transforms.Compose([transforms.ToTensor(),\n",
    "                              transforms.Normalize((0.5,), (0.5,)),\n",
    "                              ])\n",
    "\n",
    "# Download and load the training data\n",
    "trainset = datasets.MNIST('~/.pytorch/MNIST_data/', download=True, train=True, transform=transform)\n",
    "trainloader = torch.utils.data.DataLoader(trainset, batch_size=64, shuffle=True)"
   ]
  },
  {
   "cell_type": "markdown",
   "metadata": {},
   "source": [
    "We have the training data loaded into `trainloader` and we make that an iterator with `iter(trainloader)`. Later, we'll use this to loop through the dataset for training, like\n",
    "\n",
    "```python\n",
    "for image, label in trainloader:\n",
    "    ## do things with images and labels\n",
    "```\n",
    "\n",
    "You'll notice I created the `trainloader` with a batch size of 64, and `shuffle=True`. The batch size is the number of images we get in one iteration from the data loader and pass through our network, often called a *batch*. And `shuffle=True` tells it to shuffle the dataset every time we start going through the data loader again. But here I'm just grabbing the first batch so we can check out the data. We can see below that `images` is just a tensor with size `(64, 1, 28, 28)`. So, 64 images per batch, 1 color channel, and 28x28 images."
   ]
  },
  {
   "cell_type": "code",
   "execution_count": 3,
   "metadata": {},
   "outputs": [
    {
     "name": "stdout",
     "output_type": "stream",
     "text": [
      "<class 'torch.Tensor'>\n",
      "torch.Size([64, 1, 28, 28])\n",
      "torch.Size([64])\n"
     ]
    }
   ],
   "source": [
    "dataiter = iter(trainloader)\n",
    "images, labels = dataiter.next()\n",
    "print(type(images))\n",
    "print(images.shape)\n",
    "print(labels.shape)"
   ]
  },
  {
   "cell_type": "markdown",
   "metadata": {},
   "source": [
    "This is what one of the images looks like. "
   ]
  },
  {
   "cell_type": "code",
   "execution_count": 4,
   "metadata": {},
   "outputs": [
    {
     "data": {
      "image/png": "[encoded data removed]",
      "text/plain": [
       "<Figure size 432x288 with 1 Axes>"
      ]
     },
     "metadata": {
      "image/png": {
       "height": 250,
       "width": 253
      },
      "needs_background": "light"
     },
     "output_type": "display_data"
    }
   ],
   "source": [
    "plt.imshow(images[1].numpy().squeeze(), cmap='Greys_r');"
   ]
  },
  {
   "cell_type": "markdown",
   "metadata": {},
   "source": [
    "First, let's try to build a simple network for this dataset using weight matrices and matrix multiplications. Then, we'll see how to do it using PyTorch's `nn` module which provides a much more convenient and powerful method for defining network architectures.\n",
    "\n",
    "The networks you've seen so far are called *fully-connected* or *dense* networks. Each unit in one layer is connected to each unit in the next layer. In fully-connected networks, the input to each layer must be a one-dimensional vector (which can be stacked into a 2D tensor as a batch of multiple examples). However, our images are 28x28 2D tensors, so we need to convert them into 1D vectors. Thinking about sizes, we need to convert the batch of images with shape `(64, 1, 28, 28)` to a have a shape of `(64, 784)`, 784 is 28 times 28. This is typically called *flattening*, we flattened the 2D images into 1D vectors.\n",
    "\n",
    "Previously you built a network with one output unit. Here we need 10 output units, one for each digit. We want our network to predict the digit shown in an image, so what we'll do is calculate probabilities that the image is of any one digit or class. This ends up being a discrete probability distribution over the classes (digits) that tells us the most likely class for the image. That means we need 10 output units for the 10 classes (digits). We'll see how to convert the network output into a probability distribution next.\n",
    "\n",
    "> **Exercise:** Flatten the batch of images `images`. Then build a multi-layer network with 784 input units, 256 hidden units, and 10 output units using random tensors for the weights and biases. For now, use a sigmoid activation for the hidden layer. Leave the output layer without an activation, we'll add one that gives us a probability distribution next."
   ]
  },
  {
   "cell_type": "code",
   "execution_count": 4,
   "metadata": {},
   "outputs": [
    {
     "name": "stdout",
     "output_type": "stream",
     "text": [
      "tensor([[ -1.3257, -20.2125,  16.0633,  -4.2822,  14.6210,  -7.1673,   5.8238,\n",
      "           1.4116,   4.1181, -13.4565],\n",
      "        [ -7.4109, -21.2629,  19.9122,   2.9465,  14.4709,  -4.4933,   7.0001,\n",
      "           8.0400,  -2.8527, -18.0502],\n",
      "        [ -5.4462, -23.2135,  14.1260,  -6.9671,  20.4533,  -9.6184,   4.0193,\n",
      "          -1.6538,  -6.9509, -10.1077],\n",
      "        [ -8.7231, -13.8793,  13.0406,  -2.6477,  17.6208, -11.9111,   3.3241,\n",
      "           6.6540,  -1.6331, -17.5747],\n",
      "        [-10.4473, -14.5468,   7.7532,   1.4617,  11.1229, -10.2790,  14.6562,\n",
      "           2.2234,  -2.8219,  -1.6692],\n",
      "        [ -5.4262, -23.1081,   9.3227,  -0.1362,  10.7244,  -4.5055,  13.7668,\n",
      "           1.5665,  -8.0023,  -4.1606],\n",
      "        [ -2.6877, -12.1894,  15.1937,  -4.5650,  13.6171,  -9.7025,  12.3957,\n",
      "           6.6784,  -2.1297, -11.9612],\n",
      "        [ -2.7825, -18.8719,   8.2680,  -2.6451,  12.9878,  -5.4225,   5.7936,\n",
      "          -1.4574,   1.3277, -13.1512],\n",
      "        [  4.8751,  -9.7607,   3.8617,   2.1284,  13.7928, -13.2462,  13.5904,\n",
      "          -0.7847,  -0.1392,  -8.4625],\n",
      "        [  1.6996, -18.8591,  15.3130,   1.9413,  17.1660,  -5.9304,   7.6740,\n",
      "          -2.5770,  -4.7986, -10.0773],\n",
      "        [ -7.5188, -17.3864,  13.0307,   1.1534,  14.8387,  -4.7627,   9.6313,\n",
      "          -3.2106,  -2.9886,  -9.9351],\n",
      "        [ -9.5899, -21.1644,  17.4842,   3.5890,  11.1614,  -9.2525,  15.1095,\n",
      "          -0.8405,  10.4755, -14.3434],\n",
      "        [ -4.9672, -18.6082,  19.9120,  -1.1115,   7.1426,  -9.6523,  15.6410,\n",
      "           7.4338,   0.9170, -10.9119],\n",
      "        [ -7.4259, -18.6691,   9.4107,  -8.7222,  19.1878,  -4.6553,   9.9966,\n",
      "           7.4509,  -4.1347,  -9.5823],\n",
      "        [ -5.9231, -19.6776,  16.8362,  -0.7839,  20.2533,  -0.8539,   3.4580,\n",
      "           2.9084,  -5.0360, -14.5341],\n",
      "        [-14.9450, -25.7482,   8.6047,  -3.3578,  22.5059,  -6.2020,   8.1803,\n",
      "           2.0813,   2.3770,  -9.5374],\n",
      "        [ -2.2166, -12.1113,  11.1582,  -0.0157,  16.9543,  -3.6113,  -3.4672,\n",
      "           1.7097,   8.2839,  -4.5944],\n",
      "        [ -5.9596, -21.8547,  16.1061,   3.3794,  20.9507,  -5.8015,  14.6944,\n",
      "          -3.0345,  -7.4756,  -7.9186],\n",
      "        [  5.7422, -10.6028,  -1.3332, -10.7412,  17.6231,  -5.3549,   3.5418,\n",
      "           2.4519,   0.5171, -13.4229],\n",
      "        [ -5.7449, -15.7325,  12.7542,  -7.7877,  15.9867, -11.3640,   2.8366,\n",
      "          12.8878,   2.9785,  -3.3216],\n",
      "        [ -5.6252, -14.8634,  12.5573,  -8.6834,   9.7206, -18.7153,   7.3894,\n",
      "           2.6890,   3.6489,  -9.4142],\n",
      "        [ -3.7773, -16.0694,   9.2086,   0.7969,  15.6161,  -4.3205,  12.9489,\n",
      "          -1.1155,   4.7871,  -6.5494],\n",
      "        [ -0.8075, -11.6552,   9.2193,   4.8125,  14.2286, -10.5280,  13.4074,\n",
      "           7.2253,   3.6070,  -9.1560],\n",
      "        [ -2.9253, -16.1437,   9.4243,  -1.9694,  14.7802,  -0.4550,  11.6263,\n",
      "           0.6269,   1.6141,  -9.2787],\n",
      "        [  0.5644, -12.4294,  11.4760,  -0.6873,  13.8359,  -4.7975,   5.5427,\n",
      "          10.1175,  14.4143,  -6.6914],\n",
      "        [-14.2299, -12.6598,  10.4159,  -2.1868,   8.3231,  -6.4367,  17.8180,\n",
      "           4.9659,   3.2541,  -8.8384],\n",
      "        [ -7.9312, -20.8498,   4.3775,  -3.0922,  22.5053,  -8.8284,   3.9811,\n",
      "           8.0079,  -3.2982, -13.2286],\n",
      "        [ -3.9018, -17.0521,   9.9888,   4.5167,  14.9000,  -5.1147,  10.5347,\n",
      "          -6.9071,  10.7583,  -5.9296],\n",
      "        [ -7.9216, -16.7010,  14.3490,  -7.0604,  18.5280,  -1.9634,   5.7864,\n",
      "           4.0351,   5.6472,  -9.9657],\n",
      "        [-10.3942, -14.0809,   8.0948,   3.7642,   8.1776,   6.1364,  19.4582,\n",
      "          -6.7181,   0.8666,   2.2586],\n",
      "        [  6.9725, -20.5628,  13.2772,  -4.3696,  25.9557,  -6.6875,  10.3501,\n",
      "          -2.5607,  -3.1294, -11.6699],\n",
      "        [ -2.5741, -14.1780,   9.4151,   6.3640,  14.6692, -12.3193,  11.1844,\n",
      "          -2.6247,   6.8554,  -9.1540],\n",
      "        [ -0.8142, -23.6042,   7.7653,   7.8123,  16.5132,  -4.7932,  15.0897,\n",
      "           1.5129,   1.5175,  -6.8031],\n",
      "        [ -5.2316, -15.0665,  12.6944,  -4.5473,  17.0724,  -5.9865,   4.4047,\n",
      "           1.2853,   8.5953,  -8.2998],\n",
      "        [-10.7624, -27.9351,  13.8886,  -1.8656,   8.9123,  -3.0150,   9.7860,\n",
      "           3.2428,   4.1512,  -7.2027],\n",
      "        [  0.2255, -21.7284,  10.5085,  -1.5467,  20.0364,  -4.9463,  12.1713,\n",
      "           2.1904,   1.0964,  -7.7932],\n",
      "        [ -2.9004, -15.7232,  19.4292,  -7.4111,  19.2058,  -5.3199,   8.7726,\n",
      "           4.8723,  -6.8580, -12.8229],\n",
      "        [ -2.8060, -15.6889,  15.6717,   5.7574,  13.5592,  -3.9655,  17.8185,\n",
      "           6.8749,  -8.4159,  -3.5093],\n",
      "        [  0.8445, -16.9236,  14.7279,   1.3120,  22.9611, -10.2834,   7.1368,\n",
      "           3.2066,   0.9919,  -7.1570],\n",
      "        [-10.2088, -25.4720,   9.8624,   2.0978,  10.5870,  -8.7680,  12.3235,\n",
      "          -0.0457,  -2.9468,  -1.9247],\n",
      "        [ -9.6267, -15.0793,  10.8789,  -7.6288,  13.6625,  -5.4911,  13.7908,\n",
      "          -4.8139,   0.6584,  -5.4913],\n",
      "        [ -2.9915, -13.7427,   7.2277,   3.8305,  10.2463, -10.6309,  10.2203,\n",
      "           0.4813,   6.6126,  -6.6302],\n",
      "        [ -9.5585, -11.4377,  17.9268,  15.8846,  24.8102, -14.7745,  15.2544,\n",
      "           8.6117,  -9.8163,  -8.7170],\n",
      "        [ -5.3890, -25.0226,  13.7619,   1.8158,  13.1321,  -8.1349,   9.1082,\n",
      "          11.8018,   0.6542, -13.4640],\n",
      "        [ -0.0848, -21.6440,  15.4386,  -5.9607,  18.6937, -11.8251,   1.8241,\n",
      "          -0.3248,  -0.8699, -17.1218],\n",
      "        [ -7.7843, -21.7923,  15.6081,  -5.8889,  15.4740,  -6.5291,   3.9357,\n",
      "          -0.0534,   3.5690, -12.0407],\n",
      "        [ -3.2537, -18.6299,   9.7084,  -2.7120,  18.7685, -10.6175,  12.6675,\n",
      "          -7.3850,   2.3829,  -1.1311],\n",
      "        [ -5.6287, -18.3894,  10.9381,   0.1868,  12.4814, -13.0098,  13.8995,\n",
      "          -0.8901,   1.9862,  -6.5989],\n",
      "        [ -6.4980, -17.9965,  10.5615,  -0.9668,   7.5544, -11.2763,  16.2084,\n",
      "           0.1323,   2.0189, -19.0175],\n",
      "        [ -5.4333, -14.8288,  15.7017,   8.2878,  13.7389, -11.1833,   8.8679,\n",
      "          -4.4116,  -1.4294, -12.8566],\n",
      "        [ -5.9274, -17.8961,  14.4319,  -3.0961,  16.2381,  -7.0810,  14.5711,\n",
      "           2.0739,   4.5944,  -7.9887],\n",
      "        [-15.3592, -14.6184,  15.9120,  -6.7387,  18.7744, -11.8229,   7.6043,\n",
      "          10.5222,  -1.6742,  -8.0146],\n",
      "        [ -9.3098, -22.2530,   7.4740, -10.8032,  21.0062,  -7.9391,   3.5342,\n",
      "          -2.5211,   4.1742, -12.8875],\n",
      "        [-10.4396, -14.0934,   7.7407,   0.8289,  11.4084, -17.0694,   5.2091,\n",
      "           5.4443,   1.2845,  -9.0121],\n",
      "        [ -1.0576, -22.0324,  11.8866,  -5.1634,  20.5516,  -8.9665,   4.7275,\n",
      "          15.7408,   2.1720, -10.4594],\n",
      "        [  3.0244, -15.4941,  16.6731,   1.3249,  26.0959,  -1.8731,   2.2874,\n",
      "           7.4286,   3.0878,  -3.1784],\n",
      "        [ -2.9307, -19.8083,   8.9585,   3.4171,  13.6908,  -7.7979,  18.3195,\n",
      "           0.3325,  -2.0306, -16.2676],\n",
      "        [-10.9650, -17.3048,   6.2207,  -2.1538,  11.6418, -12.0873,   7.7579,\n",
      "           9.4393,   3.2405,  -5.6665],\n",
      "        [ -5.9119, -20.9044,  10.8830,  -0.1436,  16.6770,  -5.6455,   5.7686,\n",
      "           4.2841,   5.2657,  -3.4362],\n",
      "        [ -0.5231, -19.6718,  13.8311,  -3.7322,  14.6389, -17.0378,  12.9635,\n",
      "          -9.0135,   2.9463,  -6.4974],\n",
      "        [ -5.7195,  -9.3288,   4.6906,  -3.5978,  17.7908,  -6.5572,  11.5635,\n",
      "          -2.6360, -11.7790,   3.4549],\n",
      "        [-14.0877, -20.1412,  17.9585,  -1.5499,  24.1565,  -5.3831,  12.3631,\n",
      "           9.0918,  -6.4533,  -3.8934],\n",
      "        [-12.4541, -12.8872,  13.6839,  -1.6637,  19.6500,   0.9555,  -0.5134,\n",
      "           0.1678,  -0.5248,  -6.2564],\n",
      "        [  2.6298, -21.6917,  12.5018,  -5.2392,   9.6525,  -4.4806,   5.6883,\n",
      "          -0.6301,   3.4493, -10.2338]])\n"
     ]
    }
   ],
   "source": [
    "## Your solution\n",
    "# Sigmoid activation fc\n",
    "def activation(x):\n",
    "    return 1/(1+torch.exp(-x))\n",
    "\n",
    "# Flatten the input image\n",
    "inputs = images.view(images.shape[0],-1)\n",
    "\n",
    "n_input = 784\n",
    "n_hidden = 256\n",
    "n_output = 10\n",
    "\n",
    "# Weights for inputs to hidden layer\n",
    "W1 = torch.randn(n_input, n_hidden)\n",
    "# Weights for hidden layer to output layer\n",
    "W2 = torch.randn(n_hidden, n_output)\n",
    "\n",
    "# and bias terms for hidden and output layers\n",
    "B1 = torch.randn((1, n_hidden))\n",
    "B2 = torch.randn((1, n_output))\n",
    "\n",
    "h_input_to_hidden = activation(torch.mm(inputs,W1)+B1)\n",
    "out = torch.mm(h_input_to_hidden,W2)+B2\n",
    "print (out)\n",
    "# output of your network, should have shape (64,10)"
   ]
  },
  {
   "cell_type": "code",
   "execution_count": 5,
   "metadata": {},
   "outputs": [
    {
     "name": "stdout",
     "output_type": "stream",
     "text": [
      "torch.Size([64, 10])\n"
     ]
    }
   ],
   "source": [
    "print(out.shape)"
   ]
  },
  {
   "cell_type": "markdown",
   "metadata": {},
   "source": [
    "Now we have 10 outputs for our network. We want to pass in an image to our network and get out a probability distribution over the classes that tells us the likely class(es) the image belongs to. Something that looks like this:\n",
    "<img src='assets/image_distribution.png' width=500px>\n",
    "\n",
    "Here we see that the probability for each class is roughly the same. This is representing an untrained network, it hasn't seen any data yet so it just returns a uniform distribution with equal probabilities for each class.\n",
    "\n",
    "To calculate this probability distribution, we often use the [**softmax** function](https://en.wikipedia.org/wiki/Softmax_function). Mathematically this looks like\n",
    "\n",
    "$$\n",
    "\\Large \\sigma(x_i) = \\cfrac{e^{x_i}}{\\sum_k^K{e^{x_k}}}\n",
    "$$\n",
    "\n",
    "What this does is squish each input $x_i$ between 0 and 1 and normalizes the values to give you a proper probability distribution where the probabilites sum up to one.\n",
    "\n",
    "> **Exercise:** Implement a function `softmax` that performs the softmax calculation and returns probability distributions for each example in the batch. Note that you'll need to pay attention to the shapes when doing this. If you have a tensor `a` with shape `(64, 10)` and a tensor `b` with shape `(64,)`, doing `a/b` will give you an error because PyTorch will try to do the division across the columns (called broadcasting) but you'll get a size mismatch. The way to think about this is for each of the 64 examples, you only want to divide by one value, the sum in the denominator. So you need `b` to have a shape of `(64, 1)`. This way PyTorch will divide the 10 values in each row of `a` by the one value in each row of `b`. Pay attention to how you take the sum as well. You'll need to define the `dim` keyword in `torch.sum`. Setting `dim=0` takes the sum across the rows while `dim=1` takes the sum across the columns."
   ]
  },
  {
   "cell_type": "code",
   "execution_count": 6,
   "metadata": {},
   "outputs": [
    {
     "name": "stdout",
     "output_type": "stream",
     "text": [
      "torch.Size([64, 10])\n",
      "tensor([1.0000, 1.0000, 1.0000, 1.0000, 1.0000, 1.0000, 1.0000, 1.0000, 1.0000,\n",
      "        1.0000, 1.0000, 1.0000, 1.0000, 1.0000, 1.0000, 1.0000, 1.0000, 1.0000,\n",
      "        1.0000, 1.0000, 1.0000, 1.0000, 1.0000, 1.0000, 1.0000, 1.0000, 1.0000,\n",
      "        1.0000, 1.0000, 1.0000, 1.0000, 1.0000, 1.0000, 1.0000, 1.0000, 1.0000,\n",
      "        1.0000, 1.0000, 1.0000, 1.0000, 1.0000, 1.0000, 1.0000, 1.0000, 1.0000,\n",
      "        1.0000, 1.0000, 1.0000, 1.0000, 1.0000, 1.0000, 1.0000, 1.0000, 1.0000,\n",
      "        1.0000, 1.0000, 1.0000, 1.0000, 1.0000, 1.0000, 1.0000, 1.0000, 1.0000,\n",
      "        1.0000])\n"
     ]
    }
   ],
   "source": [
    "def softmax(x):\n",
    "    ## TODO: Implement the softmax function here\n",
    "    return torch.exp(x)/torch.sum(torch.exp(x), dim=1).view(-1,1)\n",
    "\n",
    "# Here, out should be the output of the network in the previous excercise with shape (64,10)\n",
    "probabilities = softmax(out)\n",
    "\n",
    "# Does it have the right shape? Should be (64, 10)\n",
    "print(probabilities.shape)\n",
    "# Does it sum to 1?\n",
    "print(probabilities.sum(dim=1))"
   ]
  },
  {
   "cell_type": "markdown",
   "metadata": {},
   "source": [
    "## Building networks with PyTorch\n",
    "\n",
    "PyTorch provides a module `nn` that makes building networks much simpler. Here I'll show you how to build the same one as above with 784 inputs, 256 hidden units, 10 output units and a softmax output."
   ]
  },
  {
   "cell_type": "code",
   "execution_count": 7,
   "metadata": {},
   "outputs": [],
   "source": [
    "from torch import nn"
   ]
  },
  {
   "cell_type": "code",
   "execution_count": 8,
   "metadata": {},
   "outputs": [],
   "source": [
    "class Network(nn.Module):\n",
    "    def __init__(self):\n",
    "        super().__init__()\n",
    "        \n",
    "        # Inputs to hidden layer linear transformation\n",
    "        self.hidden = nn.Linear(784, 256)\n",
    "        # Output layer, 10 units - one for each digit\n",
    "        self.output = nn.Linear(256, 10)\n",
    "        \n",
    "        # Define sigmoid activation and softmax output \n",
    "        self.sigmoid = nn.Sigmoid()\n",
    "        self.softmax = nn.Softmax(dim=1)\n",
    "        \n",
    "    def forward(self, x):\n",
    "        # Pass the input tensor through each of our operations\n",
    "        x = self.hidden(x)\n",
    "        x = self.sigmoid(x)\n",
    "        x = self.output(x)\n",
    "        x = self.softmax(x)\n",
    "        \n",
    "        return x"
   ]
  },
  {
   "cell_type": "markdown",
   "metadata": {},
   "source": [
    "Let's go through this bit by bit.\n",
    "\n",
    "```python\n",
    "class Network(nn.Module):\n",
    "```\n",
    "\n",
    "Here we're inheriting from `nn.Module`. Combined with `super().__init__()` this creates a class that tracks the architecture and provides a lot of useful methods and attributes. It is mandatory to inherit from `nn.Module` when you're creating a class for your network. The name of the class itself can be anything.\n",
    "\n",
    "```python\n",
    "self.hidden = nn.Linear(784, 256)\n",
    "```\n",
    "\n",
    "This line creates a module for a linear transformation, $x\\mathbf{W} + b$, with 784 inputs and 256 outputs and assigns it to `self.hidden`. The module automatically creates the weight and bias tensors which we'll use in the `forward` method. You can access the weight and bias tensors once the network (`net`) is created with `net.hidden.weight` and `net.hidden.bias`.\n",
    "\n",
    "```python\n",
    "self.output = nn.Linear(256, 10)\n",
    "```\n",
    "\n",
    "Similarly, this creates another linear transformation with 256 inputs and 10 outputs.\n",
    "\n",
    "```python\n",
    "self.sigmoid = nn.Sigmoid()\n",
    "self.softmax = nn.Softmax(dim=1)\n",
    "```\n",
    "\n",
    "Here I defined operations for the sigmoid activation and softmax output. Setting `dim=1` in `nn.Softmax(dim=1)` calculates softmax across the columns.\n",
    "\n",
    "```python\n",
    "def forward(self, x):\n",
    "```\n",
    "\n",
    "PyTorch networks created with `nn.Module` must have a `forward` method defined. It takes in a tensor `x` and passes it through the operations you defined in the `__init__` method.\n",
    "\n",
    "```python\n",
    "x = self.hidden(x)\n",
    "x = self.sigmoid(x)\n",
    "x = self.output(x)\n",
    "x = self.softmax(x)\n",
    "```\n",
    "\n",
    "Here the input tensor `x` is passed through each operation and reassigned to `x`. We can see that the input tensor goes through the hidden layer, then a sigmoid function, then the output layer, and finally the softmax function. It doesn't matter what you name the variables here, as long as the inputs and outputs of the operations match the network architecture you want to build. The order in which you define things in the `__init__` method doesn't matter, but you'll need to sequence the operations correctly in the `forward` method.\n",
    "\n",
    "Now we can create a `Network` object."
   ]
  },
  {
   "cell_type": "code",
   "execution_count": 9,
   "metadata": {},
   "outputs": [
    {
     "data": {
      "text/plain": [
       "Network(\n",
       "  (hidden): Linear(in_features=784, out_features=256, bias=True)\n",
       "  (output): Linear(in_features=256, out_features=10, bias=True)\n",
       "  (sigmoid): Sigmoid()\n",
       "  (softmax): Softmax()\n",
       ")"
      ]
     },
     "execution_count": 9,
     "metadata": {},
     "output_type": "execute_result"
    }
   ],
   "source": [
    "# Create the network and look at it's text representation\n",
    "model = Network()\n",
    "model"
   ]
  },
  {
   "cell_type": "markdown",
   "metadata": {},
   "source": [
    "You can define the network somewhat more concisely and clearly using the `torch.nn.functional` module. This is the most common way you'll see networks defined as many operations are simple element-wise functions. We normally import this module as `F`, `import torch.nn.functional as F`."
   ]
  },
  {
   "cell_type": "code",
   "execution_count": 10,
   "metadata": {},
   "outputs": [],
   "source": [
    "import torch.nn.functional as F\n",
    "\n",
    "class Network(nn.Module):\n",
    "    def __init__(self):\n",
    "        super().__init__()\n",
    "        # Inputs to hidden layer linear transformation\n",
    "        self.hidden = nn.Linear(784, 256)\n",
    "        # Output layer, 10 units - one for each digit\n",
    "        self.output = nn.Linear(256, 10)\n",
    "        \n",
    "    def forward(self, x):\n",
    "        # Hidden layer with sigmoid activation\n",
    "        x = F.sigmoid(self.hidden(x))\n",
    "        # Output layer with softmax activation\n",
    "        x = F.softmax(self.output(x), dim=1)\n",
    "        \n",
    "        return x"
   ]
  },
  {
   "cell_type": "markdown",
   "metadata": {},
   "source": [
    "### Activation functions\n",
    "\n",
    "So far we've only been looking at the sigmoid activation function, but in general any function can be used as an activation function. The only requirement is that for a network to approximate a non-linear function, the activation functions must be non-linear. Here are a few more examples of common activation functions: Tanh (hyperbolic tangent), and ReLU (rectified linear unit).\n",
    "\n",
    "<img src=\"assets/activation.png\" width=700px>\n",
    "\n",
    "In practice, the ReLU function is used almost exclusively as the activation function for hidden layers."
   ]
  },
  {
   "cell_type": "markdown",
   "metadata": {},
   "source": [
    "### Your Turn to Build a Network\n",
    "\n",
    "<img src=\"assets/mlp_mnist.png\" width=600px>\n",
    "\n",
    "> **Exercise:** Create a network with 784 input units, a hidden layer with 128 units and a ReLU activation, then a hidden layer with 64 units and a ReLU activation, and finally an output layer with a softmax activation as shown above. You can use a ReLU activation with the `nn.ReLU` module or `F.relu` function.\n",
    "\n",
    "It's good practice to name your layers by their type of network, for instance 'fc' to represent a fully-connected layer. As you code your solution, use `fc1`, `fc2`, and `fc3` as your layer names."
   ]
  },
  {
   "cell_type": "code",
   "execution_count": 11,
   "metadata": {
    "scrolled": true
   },
   "outputs": [
    {
     "name": "stdout",
     "output_type": "stream",
     "text": [
      "my_net(\n",
      "  (fc1): Linear(in_features=784, out_features=128, bias=True)\n",
      "  (fc2): Linear(in_features=128, out_features=64, bias=True)\n",
      "  (output): Linear(in_features=64, out_features=10, bias=True)\n",
      "  (relu): ReLU()\n",
      "  (softmax): Softmax()\n",
      ")\n"
     ]
    }
   ],
   "source": [
    "## Your solution here\n",
    "class my_net(nn.Module):\n",
    "    def __init__(self):\n",
    "        super().__init__()\n",
    "        \n",
    "        # Inputs to hidden layer linear transformation\n",
    "        self.fc1 = nn.Linear(784, 128)\n",
    "        self.fc2 = nn.Linear(128,64)\n",
    "        # Output layer, 10 units - one for each digit\n",
    "        self.output = nn.Linear(64, 10)\n",
    "        \n",
    "        # Define sigmoid activation and softmax output \n",
    "        self.relu = nn.ReLU()\n",
    "        self.softmax = nn.Softmax(dim=1)\n",
    "        \n",
    "    def forward(self, x):\n",
    "        # Pass the input tensor through each of our operations\n",
    "        x = self.fc1(x)\n",
    "        x = self.relu(x)\n",
    "        x = self.fc2(x)\n",
    "        x = self.relu(x)\n",
    "        x = self.output(x)\n",
    "        x = self.softmax(x)\n",
    "        \n",
    "        return x\n",
    "    \n",
    "model = my_net()\n",
    "print(model)\n",
    "#print(model.fc1.weight)\n",
    "#print(model.fc1.bias)"
   ]
  },
  {
   "cell_type": "markdown",
   "metadata": {},
   "source": [
    "### Initializing weights and biases\n",
    "\n",
    "The weights and such are automatically initialized for you, but it's possible to customize how they are initialized. The weights and biases are tensors attached to the layer you defined, you can get them with `model.fc1.weight` for instance."
   ]
  },
  {
   "cell_type": "code",
   "execution_count": 12,
   "metadata": {},
   "outputs": [
    {
     "name": "stdout",
     "output_type": "stream",
     "text": [
      "Parameter containing:\n",
      "tensor([[ 0.0259, -0.0088,  0.0137,  ..., -0.0081,  0.0031,  0.0324],\n",
      "        [ 0.0336,  0.0201,  0.0024,  ..., -0.0238,  0.0335, -0.0111],\n",
      "        [-0.0301, -0.0127,  0.0356,  ...,  0.0283, -0.0030, -0.0326],\n",
      "        ...,\n",
      "        [-0.0235, -0.0090, -0.0185,  ...,  0.0155,  0.0343, -0.0091],\n",
      "        [-0.0296,  0.0336, -0.0119,  ..., -0.0080,  0.0337, -0.0054],\n",
      "        [-0.0129, -0.0301, -0.0229,  ..., -0.0320, -0.0019,  0.0063]],\n",
      "       requires_grad=True)\n",
      "Parameter containing:\n",
      "tensor([-0.0083, -0.0149,  0.0103, -0.0030, -0.0013, -0.0104, -0.0236, -0.0048,\n",
      "         0.0246,  0.0089,  0.0164,  0.0212,  0.0114, -0.0016,  0.0306, -0.0213,\n",
      "        -0.0072,  0.0085, -0.0336,  0.0303,  0.0298,  0.0287,  0.0343,  0.0302,\n",
      "        -0.0107, -0.0303, -0.0255, -0.0027, -0.0320, -0.0123, -0.0073,  0.0032,\n",
      "        -0.0074,  0.0185,  0.0146, -0.0131,  0.0062, -0.0087,  0.0267,  0.0102,\n",
      "         0.0183, -0.0043,  0.0157,  0.0094, -0.0280,  0.0101,  0.0145,  0.0066,\n",
      "        -0.0069, -0.0215, -0.0030,  0.0047,  0.0268,  0.0169,  0.0339, -0.0074,\n",
      "         0.0319,  0.0188,  0.0295,  0.0038,  0.0342, -0.0165,  0.0252,  0.0185,\n",
      "        -0.0145, -0.0012, -0.0278,  0.0348, -0.0332,  0.0312, -0.0308,  0.0326,\n",
      "         0.0051, -0.0354, -0.0019,  0.0172,  0.0328,  0.0297, -0.0116,  0.0252,\n",
      "         0.0118, -0.0336,  0.0104, -0.0345,  0.0229, -0.0028, -0.0059,  0.0269,\n",
      "         0.0077,  0.0206, -0.0156, -0.0188, -0.0247,  0.0011, -0.0176,  0.0016,\n",
      "         0.0120, -0.0144, -0.0066,  0.0307,  0.0105,  0.0103,  0.0281, -0.0307,\n",
      "        -0.0122, -0.0090,  0.0177,  0.0034,  0.0093,  0.0055,  0.0318,  0.0075,\n",
      "         0.0152,  0.0265, -0.0253, -0.0144,  0.0026, -0.0294,  0.0122, -0.0106,\n",
      "         0.0187, -0.0236, -0.0208,  0.0131,  0.0187,  0.0349,  0.0236,  0.0207],\n",
      "       requires_grad=True)\n"
     ]
    }
   ],
   "source": [
    "print(model.fc1.weight)\n",
    "print(model.fc1.bias)"
   ]
  },
  {
   "cell_type": "markdown",
   "metadata": {},
   "source": [
    "For custom initialization, we want to modify these tensors in place. These are actually autograd *Variables*, so we need to get back the actual tensors with `model.fc1.weight.data`. Once we have the tensors, we can fill them with zeros (for biases) or random normal values."
   ]
  },
  {
   "cell_type": "code",
   "execution_count": 13,
   "metadata": {},
   "outputs": [
    {
     "data": {
      "text/plain": [
       "tensor([0., 0., 0., 0., 0., 0., 0., 0., 0., 0., 0., 0., 0., 0., 0., 0., 0., 0.,\n",
       "        0., 0., 0., 0., 0., 0., 0., 0., 0., 0., 0., 0., 0., 0., 0., 0., 0., 0.,\n",
       "        0., 0., 0., 0., 0., 0., 0., 0., 0., 0., 0., 0., 0., 0., 0., 0., 0., 0.,\n",
       "        0., 0., 0., 0., 0., 0., 0., 0., 0., 0., 0., 0., 0., 0., 0., 0., 0., 0.,\n",
       "        0., 0., 0., 0., 0., 0., 0., 0., 0., 0., 0., 0., 0., 0., 0., 0., 0., 0.,\n",
       "        0., 0., 0., 0., 0., 0., 0., 0., 0., 0., 0., 0., 0., 0., 0., 0., 0., 0.,\n",
       "        0., 0., 0., 0., 0., 0., 0., 0., 0., 0., 0., 0., 0., 0., 0., 0., 0., 0.,\n",
       "        0., 0.])"
      ]
     },
     "execution_count": 13,
     "metadata": {},
     "output_type": "execute_result"
    }
   ],
   "source": [
    "# Set biases to all zeros\n",
    "model.fc1.bias.data.fill_(0)"
   ]
  },
  {
   "cell_type": "code",
   "execution_count": 14,
   "metadata": {},
   "outputs": [
    {
     "data": {
      "text/plain": [
       "tensor([[-0.0032, -0.0065,  0.0083,  ...,  0.0084, -0.0040,  0.0027],\n",
       "        [-0.0034,  0.0070, -0.0009,  ..., -0.0167, -0.0094, -0.0001],\n",
       "        [ 0.0080, -0.0060,  0.0158,  ...,  0.0018, -0.0058, -0.0149],\n",
       "        ...,\n",
       "        [-0.0222,  0.0018, -0.0244,  ..., -0.0050,  0.0059,  0.0104],\n",
       "        [-0.0083,  0.0042, -0.0161,  ...,  0.0009, -0.0104, -0.0044],\n",
       "        [-0.0061,  0.0069, -0.0185,  ...,  0.0147, -0.0102, -0.0158]])"
      ]
     },
     "execution_count": 14,
     "metadata": {},
     "output_type": "execute_result"
    }
   ],
   "source": [
    "# sample from random normal with standard dev = 0.01\n",
    "model.fc1.weight.data.normal_(std=0.01)"
   ]
  },
  {
   "cell_type": "markdown",
   "metadata": {},
   "source": [
    "### Forward pass\n",
    "\n",
    "Now that we have a network, let's see what happens when we pass in an image."
   ]
  },
  {
   "cell_type": "code",
   "execution_count": 15,
   "metadata": {},
   "outputs": [
    {
     "data": {
      "image/png": "[encoded data removed]",
      "text/plain": [
       "<Figure size 432x648 with 2 Axes>"
      ]
     },
     "metadata": {
      "image/png": {
       "height": 226,
       "width": 423
      },
      "needs_background": "light"
     },
     "output_type": "display_data"
    }
   ],
   "source": [
    "# Grab some data \n",
    "dataiter = iter(trainloader)\n",
    "images, labels = dataiter.next()\n",
    "\n",
    "# Resize images into a 1D vector, new shape is (batch size, color channels, image pixels) \n",
    "images.resize_(64, 1, 784)\n",
    "# or images.resize_(images.shape[0], 1, 784) to automatically get batch size\n",
    "\n",
    "# Forward pass through the network\n",
    "img_idx = 0\n",
    "ps = model.forward(images[img_idx,:])\n",
    "\n",
    "img = images[img_idx]\n",
    "helper.view_classify(img.view(1, 28, 28), ps)"
   ]
  },
  {
   "cell_type": "markdown",
   "metadata": {},
   "source": [
    "As you can see above, our network has basically no idea what this digit is. It's because we haven't trained it yet, all the weights are random!\n",
    "\n",
    "### Using `nn.Sequential`\n",
    "\n",
    "PyTorch provides a convenient way to build networks like this where a tensor is passed sequentially through operations, `nn.Sequential` ([documentation](https://pytorch.org/docs/master/nn.html#torch.nn.Sequential)). Using this to build the equivalent network:"
   ]
  },
  {
   "cell_type": "code",
   "execution_count": 16,
   "metadata": {},
   "outputs": [
    {
     "name": "stdout",
     "output_type": "stream",
     "text": [
      "Sequential(\n",
      "  (0): Linear(in_features=784, out_features=128, bias=True)\n",
      "  (1): ReLU()\n",
      "  (2): Linear(in_features=128, out_features=64, bias=True)\n",
      "  (3): ReLU()\n",
      "  (4): Linear(in_features=64, out_features=10, bias=True)\n",
      "  (5): Softmax()\n",
      ")\n"
     ]
    },
    {
     "data": {
      "image/png": "[encoded data removed]",
      "text/plain": [
       "<Figure size 432x648 with 2 Axes>"
      ]
     },
     "metadata": {
      "image/png": {
       "height": 226,
       "width": 423
      },
      "needs_background": "light"
     },
     "output_type": "display_data"
    }
   ],
   "source": [
    "# Hyperparameters for our network\n",
    "input_size = 784\n",
    "hidden_sizes = [128, 64]\n",
    "output_size = 10\n",
    "\n",
    "# Build a feed-forward network\n",
    "model = nn.Sequential(nn.Linear(input_size, hidden_sizes[0]),\n",
    "                      nn.ReLU(),\n",
    "                      nn.Linear(hidden_sizes[0], hidden_sizes[1]),\n",
    "                      nn.ReLU(),\n",
    "                      nn.Linear(hidden_sizes[1], output_size),\n",
    "                      nn.Softmax(dim=1))\n",
    "print(model)\n",
    "\n",
    "# Forward pass through the network and display output\n",
    "images, labels = next(iter(trainloader))\n",
    "images.resize_(images.shape[0], 1, 784)\n",
    "ps = model.forward(images[0,:])\n",
    "helper.view_classify(images[0].view(1, 28, 28), ps)"
   ]
  },
  {
   "cell_type": "markdown",
   "metadata": {},
   "source": [
    "Here our model is the same as before: 784 input units, a hidden layer with 128 units, ReLU activation, 64 unit hidden layer, another ReLU, then the output layer with 10 units, and the softmax output.\n",
    "\n",
    "The operations are available by passing in the appropriate index. For example, if you want to get first Linear operation and look at the weights, you'd use `model[0]`."
   ]
  },
  {
   "cell_type": "code",
   "execution_count": 17,
   "metadata": {},
   "outputs": [
    {
     "name": "stdout",
     "output_type": "stream",
     "text": [
      "Linear(in_features=784, out_features=128, bias=True)\n"
     ]
    },
    {
     "data": {
      "text/plain": [
       "Parameter containing:\n",
       "tensor([[ 0.0143, -0.0229, -0.0208,  ...,  0.0213, -0.0286,  0.0249],\n",
       "        [-0.0214,  0.0293, -0.0273,  ..., -0.0095,  0.0068,  0.0025],\n",
       "        [ 0.0197, -0.0087,  0.0343,  ..., -0.0080, -0.0076,  0.0135],\n",
       "        ...,\n",
       "        [ 0.0235, -0.0237,  0.0046,  ..., -0.0209, -0.0193,  0.0098],\n",
       "        [ 0.0255, -0.0149,  0.0304,  ...,  0.0004,  0.0100,  0.0037],\n",
       "        [-0.0216,  0.0120, -0.0059,  ...,  0.0125, -0.0169, -0.0175]],\n",
       "       requires_grad=True)"
      ]
     },
     "execution_count": 17,
     "metadata": {},
     "output_type": "execute_result"
    }
   ],
   "source": [
    "print(model[0])\n",
    "model[0].weight"
   ]
  },
  {
   "cell_type": "markdown",
   "metadata": {},
   "source": [
    "You can also pass in an `OrderedDict` to name the individual layers and operations, instead of using incremental integers. Note that dictionary keys must be unique, so _each operation must have a different name_."
   ]
  },
  {
   "cell_type": "code",
   "execution_count": 18,
   "metadata": {},
   "outputs": [
    {
     "data": {
      "text/plain": [
       "Sequential(\n",
       "  (fc1): Linear(in_features=784, out_features=128, bias=True)\n",
       "  (relu1): ReLU()\n",
       "  (fc2): Linear(in_features=128, out_features=64, bias=True)\n",
       "  (relu2): ReLU()\n",
       "  (output): Linear(in_features=64, out_features=10, bias=True)\n",
       "  (softmax): Softmax()\n",
       ")"
      ]
     },
     "execution_count": 18,
     "metadata": {},
     "output_type": "execute_result"
    }
   ],
   "source": [
    "from collections import OrderedDict\n",
    "model = nn.Sequential(OrderedDict([\n",
    "                      ('fc1', nn.Linear(input_size, hidden_sizes[0])),\n",
    "                      ('relu1', nn.ReLU()),\n",
    "                      ('fc2', nn.Linear(hidden_sizes[0], hidden_sizes[1])),\n",
    "                      ('relu2', nn.ReLU()),\n",
    "                      ('output', nn.Linear(hidden_sizes[1], output_size)),\n",
    "                      ('softmax', nn.Softmax(dim=1))]))\n",
    "model"
   ]
  },
  {
   "cell_type": "markdown",
   "metadata": {},
   "source": [
    "Now you can access layers either by integer or the name"
   ]
  },
  {
   "cell_type": "code",
   "execution_count": 19,
   "metadata": {},
   "outputs": [
    {
     "name": "stdout",
     "output_type": "stream",
     "text": [
      "Linear(in_features=784, out_features=128, bias=True)\n",
      "Linear(in_features=784, out_features=128, bias=True)\n"
     ]
    }
   ],
   "source": [
    "print(model[0])\n",
    "print(model.fc1)"
   ]
  },
  {
   "cell_type": "markdown",
   "metadata": {},
   "source": [
    "In the next notebook, we'll see how we can train a neural network to accuractly predict the numbers appearing in the MNIST images."
   ]
  }
 ],
 "metadata": {
  "kernelspec": {
   "display_name": "Python 3",
   "language": "python",
   "name": "python3"
  },
  "language_info": {
   "codemirror_mode": {
    "name": "ipython",
    "version": 3
   },
   "file_extension": ".py",
   "mimetype": "text/x-python",
   "name": "python",
   "nbconvert_exporter": "python",
   "pygments_lexer": "ipython3",
   "version": "3.6.7"
  }
 },
 "nbformat": 4,
 "nbformat_minor": 2
}
